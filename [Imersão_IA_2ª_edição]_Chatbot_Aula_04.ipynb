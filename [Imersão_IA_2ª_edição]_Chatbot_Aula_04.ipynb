{
  "nbformat": 4,
  "nbformat_minor": 0,
  "metadata": {
    "colab": {
      "provenance": [],
      "authorship_tag": "ABX9TyPhGVrxiccmWkTdOjYEkzzT",
      "include_colab_link": true
    },
    "kernelspec": {
      "name": "python3",
      "display_name": "Python 3"
    },
    "language_info": {
      "name": "python"
    }
  },
  "cells": [
    {
      "cell_type": "markdown",
      "metadata": {
        "id": "view-in-github",
        "colab_type": "text"
      },
      "source": [
        "<a href=\"https://colab.research.google.com/github/dcampos90/alura_Imersao-IA_A04/blob/main/%5BImers%C3%A3o_IA_2%C2%AA_edi%C3%A7%C3%A3o%5D_Chatbot_Aula_04.ipynb\" target=\"_parent\"><img src=\"https://colab.research.google.com/assets/colab-badge.svg\" alt=\"Open In Colab\"/></a>"
      ]
    },
    {
      "cell_type": "markdown",
      "source": [
        "\n",
        "---\n",
        "\n",
        "]------------ **CRIANDO UM CHATBOT COM A GEMINI API** ------------[\n",
        "\n",
        "---"
      ],
      "metadata": {
        "id": "HrJTo7_aRvhS"
      }
    },
    {
      "cell_type": "code",
      "execution_count": null,
      "metadata": {
        "id": "Hxqjaxcj-DoU"
      },
      "outputs": [],
      "source": [
        "#instalando o SDK do Google\n",
        "!pip install -q -U google-generativeai"
      ]
    },
    {
      "cell_type": "code",
      "execution_count": null,
      "metadata": {
        "id": "IthzwfnAfcsi"
      },
      "outputs": [],
      "source": [
        "#configurações iniciais\n",
        "import google.generativeai as genai\n",
        "from google.colab import userdata\n",
        "api_key = userdata.get('GOOGLE_API_KEY')\n",
        "\n",
        "genai.configure(api_key=api_key)"
      ]
    },
    {
      "cell_type": "code",
      "source": [
        "#listando os modelos disponíveis\n",
        "for m in genai.list_models():\n",
        "  if 'generateContent' in m.supported_generation_methods:\n",
        "    print(m.name)"
      ],
      "metadata": {
        "colab": {
          "base_uri": "https://localhost:8080/",
          "height": 146
        },
        "id": "ee-34zYELeJQ",
        "outputId": "99d4231f-3649-4106-b2a4-2e11ded3e291"
      },
      "execution_count": null,
      "outputs": [
        {
          "output_type": "stream",
          "name": "stdout",
          "text": [
            "models/gemini-1.0-pro\n",
            "models/gemini-1.0-pro-001\n",
            "models/gemini-1.0-pro-latest\n",
            "models/gemini-1.0-pro-vision-latest\n",
            "models/gemini-1.5-pro-latest\n",
            "models/gemini-pro\n",
            "models/gemini-pro-vision\n"
          ]
        }
      ]
    },
    {
      "cell_type": "code",
      "source": [
        "#configurações gerais de parâmetros\n",
        "generation_config = {\n",
        "  \"candidate_count\": 1,\n",
        "  \"temperature\": 0.5,\n",
        "}"
      ],
      "metadata": {
        "id": "9zWhL1bmOt66"
      },
      "execution_count": null,
      "outputs": []
    },
    {
      "cell_type": "code",
      "source": [
        "#configurações de parâmetros de segurança\n",
        "safety_settings={\n",
        "    'HATE': 'BLOCK_NONE',\n",
        "    'HARASSMENT': 'BLOCK_NONE',\n",
        "    'SEXUAL' : 'BLOCK_NONE',\n",
        "    'DANGEROUS' : 'BLOCK_NONE'\n",
        "    }"
      ],
      "metadata": {
        "id": "E_H8bgbmOx5K"
      },
      "execution_count": null,
      "outputs": []
    },
    {
      "cell_type": "markdown",
      "source": [
        "\n",
        "---\n",
        "\n",
        "=> Inicializando o modelo\n",
        "\n",
        "---"
      ],
      "metadata": {
        "id": "mA06G_ifSHh6"
      }
    },
    {
      "cell_type": "code",
      "source": [
        "#selecionando o modelo\n",
        "model = genai.GenerativeModel(model_name='gemini-1.0-pro',\n",
        "                                  generation_config=generation_config,\n",
        "                                  safety_settings=safety_settings,)"
      ],
      "metadata": {
        "id": "rr9jJDL3STM1"
      },
      "execution_count": null,
      "outputs": []
    },
    {
      "cell_type": "code",
      "source": [
        "#gerando resposta\n",
        "response = model.generate_content(\"Que empresa criou o modelo de IA Gemini?\")\n",
        "response.text"
      ],
      "metadata": {
        "colab": {
          "base_uri": "https://localhost:8080/",
          "height": 36
        },
        "id": "a6gkAWxl_C9Q",
        "outputId": "d75a8f9d-443a-4ef4-df3c-22c30a90db3c"
      },
      "execution_count": null,
      "outputs": [
        {
          "output_type": "execute_result",
          "data": {
            "text/plain": [
              "'Google'"
            ],
            "application/vnd.google.colaboratory.intrinsic+json": {
              "type": "string"
            }
          },
          "metadata": {},
          "execution_count": 7
        }
      ]
    },
    {
      "cell_type": "code",
      "source": [
        "#guardando memória como histórico\n",
        "chat = model.start_chat(history=[])\n",
        "\n",
        "#inserindo comando ao chat\n",
        "prompt = input('Esperando prompt: ')\n",
        "\n",
        "while prompt != \"fim\":\n",
        "  response = chat.send_message(prompt)\n",
        "  print(\"Resposta:\", response.text, '\\n\\n')\n",
        "  prompt = input('Esperando prompt: ')"
      ],
      "metadata": {
        "colab": {
          "base_uri": "https://localhost:8080/",
          "height": 498
        },
        "id": "oG1824-1A4e5",
        "outputId": "191b26e8-82df-4463-fc1f-9282e89be641"
      },
      "execution_count": null,
      "outputs": [
        {
          "name": "stdout",
          "output_type": "stream",
          "text": [
            "Esperando prompt: Qual é a capital do Japão?\n",
            "Resposta: Tóquio \n",
            "\n",
            "\n",
            "Esperando prompt: Qual a comida típica desse país?\n",
            "Resposta: Sushi \n",
            "\n",
            "\n",
            "Esperando prompt: Como é preparada essa comida?\n",
            "Resposta: O sushi é preparado com arroz avinagrado combinado com vários ingredientes, como frutos do mar crus, vegetais e ovos. O arroz é temperado com vinagre de arroz, açúcar e sal, e depois misturado com os outros ingredientes. O sushi pode ser enrolado em folhas de alga marinha (nori), prensado em blocos ou servido em tigelas.\n",
            "\n",
            "Existem muitos tipos diferentes de sushi, incluindo:\n",
            "\n",
            "* **Nigiri:** Arroz avinagrado coberto com uma fatia de peixe cru ou frutos do mar\n",
            "* **Maki:** Arroz avinagrado enrolado em folhas de alga marinha com vários recheios\n",
            "* **Sashimi:** Peixe cru ou frutos do mar fatiados e servidos sem arroz\n",
            "* **Chirashi:** Arroz avinagrado coberto com vários ingredientes, como peixe cru, frutos do mar, vegetais e ovos\n",
            "* **Temaki:** Cone de alga marinha enrolado com arroz avinagrado e vários recheios \n",
            "\n",
            "\n",
            "Esperando prompt: Fim\n",
            "Resposta: Obrigado por conversar comigo! Foi um prazer. \n",
            "\n",
            "\n",
            "Esperando prompt: fim\n"
          ]
        }
      ]
    },
    {
      "cell_type": "code",
      "source": [
        "chat"
      ],
      "metadata": {
        "id": "gMCa_8uiJDlS",
        "colab": {
          "base_uri": "https://localhost:8080/"
        },
        "outputId": "428ee927-1607-4b7c-be52-417a851641ea"
      },
      "execution_count": null,
      "outputs": [
        {
          "output_type": "execute_result",
          "data": {
            "text/plain": [
              "ChatSession(\n",
              "    model=genai.GenerativeModel(\n",
              "        model_name='models/gemini-1.0-pro',\n",
              "        generation_config={'candidate_count': 1, 'temperature': 0.5},\n",
              "        safety_settings={<HarmCategory.HARM_CATEGORY_HATE_SPEECH: 8>: <HarmBlockThreshold.BLOCK_NONE: 4>, <HarmCategory.HARM_CATEGORY_HARASSMENT: 7>: <HarmBlockThreshold.BLOCK_NONE: 4>, <HarmCategory.HARM_CATEGORY_SEXUALLY_EXPLICIT: 9>: <HarmBlockThreshold.BLOCK_NONE: 4>, <HarmCategory.HARM_CATEGORY_DANGEROUS_CONTENT: 10>: <HarmBlockThreshold.BLOCK_NONE: 4>},\n",
              "        tools=None,\n",
              "        system_instruction=None,\n",
              "    ),\n",
              "    history=[glm.Content({'parts': [{'text': 'Qual é a capital do Japão?'}], 'role': 'user'}), glm.Content({'parts': [{'text': 'Tóquio'}], 'role': 'model'}), glm.Content({'parts': [{'text': 'Qual a comid...a desse país?'}], 'role': 'user'}), glm.Content({'parts': [{'text': 'Sushi'}], 'role': 'model'}), glm.Content({'parts': [{'text': 'Como é prepa... essa comida?'}], 'role': 'user'}), glm.Content({'parts': [{'text': 'O sushi é pr...rios recheios'}], 'role': 'model'}), glm.Content({'parts': [{'text': 'Fim'}], 'role': 'user'}), glm.Content({'parts': [{'text': 'Obrigado por...oi um prazer.'}], 'role': 'model'})]\n",
              ")"
            ]
          },
          "metadata": {},
          "execution_count": 15
        }
      ]
    },
    {
      "cell_type": "code",
      "source": [
        "chat.history"
      ],
      "metadata": {
        "id": "SqMujL3-JEap",
        "colab": {
          "base_uri": "https://localhost:8080/"
        },
        "outputId": "23c60828-0795-44f4-97d2-f9c46573a824"
      },
      "execution_count": null,
      "outputs": [
        {
          "output_type": "execute_result",
          "data": {
            "text/plain": [
              "[parts {\n",
              "   text: \"Qual \\303\\251 a capital do Jap\\303\\243o?\"\n",
              " }\n",
              " role: \"user\",\n",
              " parts {\n",
              "   text: \"T\\303\\263quio\"\n",
              " }\n",
              " role: \"model\",\n",
              " parts {\n",
              "   text: \"Qual a comida t\\303\\255pica desse pa\\303\\255s?\"\n",
              " }\n",
              " role: \"user\",\n",
              " parts {\n",
              "   text: \"Sushi\"\n",
              " }\n",
              " role: \"model\",\n",
              " parts {\n",
              "   text: \"Como \\303\\251 preparada essa comida?\"\n",
              " }\n",
              " role: \"user\",\n",
              " parts {\n",
              "   text: \"O sushi \\303\\251 preparado com arroz avinagrado combinado com v\\303\\241rios ingredientes, como frutos do mar crus, vegetais e ovos. O arroz \\303\\251 temperado com vinagre de arroz, a\\303\\247\\303\\272car e sal, e depois misturado com os outros ingredientes. O sushi pode ser enrolado em folhas de alga marinha (nori), prensado em blocos ou servido em tigelas.\\n\\nExistem muitos tipos diferentes de sushi, incluindo:\\n\\n* **Nigiri:** Arroz avinagrado coberto com uma fatia de peixe cru ou frutos do mar\\n* **Maki:** Arroz avinagrado enrolado em folhas de alga marinha com v\\303\\241rios recheios\\n* **Sashimi:** Peixe cru ou frutos do mar fatiados e servidos sem arroz\\n* **Chirashi:** Arroz avinagrado coberto com v\\303\\241rios ingredientes, como peixe cru, frutos do mar, vegetais e ovos\\n* **Temaki:** Cone de alga marinha enrolado com arroz avinagrado e v\\303\\241rios recheios\"\n",
              " }\n",
              " role: \"model\",\n",
              " parts {\n",
              "   text: \"Fim\"\n",
              " }\n",
              " role: \"user\",\n",
              " parts {\n",
              "   text: \"Obrigado por conversar comigo! Foi um prazer.\"\n",
              " }\n",
              " role: \"model\"]"
            ]
          },
          "metadata": {},
          "execution_count": 16
        }
      ]
    },
    {
      "cell_type": "markdown",
      "source": [
        "\n",
        "---\n",
        "\n",
        "=> Melhorando a visualização do histórico do modelo\n",
        "\n",
        "---"
      ],
      "metadata": {
        "id": "4pz5g2cBJR29"
      }
    },
    {
      "cell_type": "code",
      "source": [
        "import textwrap\n",
        "from IPython.display import display\n",
        "from IPython.display import Markdown\n",
        "\n",
        "def to_markdown(text):\n",
        "  text = text.replace('•', '  *')\n",
        "  return Markdown(textwrap.indent(text, '> ', predicate=lambda _: True))\n",
        "\n",
        "#imprimindo o histórico\n",
        "for message in chat.history:\n",
        "  display(to_markdown(f'**{message.role}**: {message.parts[0].text}'))\n",
        "  print('-------------------------------------------')"
      ],
      "metadata": {
        "id": "emlRXlUYJF9b",
        "colab": {
          "base_uri": "https://localhost:8080/",
          "height": 678
        },
        "outputId": "f3a7b8fa-8709-48e0-99c0-2844c0529ef9"
      },
      "execution_count": null,
      "outputs": [
        {
          "output_type": "display_data",
          "data": {
            "text/plain": [
              "<IPython.core.display.Markdown object>"
            ],
            "text/markdown": "> **user**: Qual é a capital do Japão?"
          },
          "metadata": {}
        },
        {
          "output_type": "stream",
          "name": "stdout",
          "text": [
            "-------------------------------------------\n"
          ]
        },
        {
          "output_type": "display_data",
          "data": {
            "text/plain": [
              "<IPython.core.display.Markdown object>"
            ],
            "text/markdown": "> **model**: Tóquio"
          },
          "metadata": {}
        },
        {
          "output_type": "stream",
          "name": "stdout",
          "text": [
            "-------------------------------------------\n"
          ]
        },
        {
          "output_type": "display_data",
          "data": {
            "text/plain": [
              "<IPython.core.display.Markdown object>"
            ],
            "text/markdown": "> **user**: Qual a comida típica desse país?"
          },
          "metadata": {}
        },
        {
          "output_type": "stream",
          "name": "stdout",
          "text": [
            "-------------------------------------------\n"
          ]
        },
        {
          "output_type": "display_data",
          "data": {
            "text/plain": [
              "<IPython.core.display.Markdown object>"
            ],
            "text/markdown": "> **model**: Sushi"
          },
          "metadata": {}
        },
        {
          "output_type": "stream",
          "name": "stdout",
          "text": [
            "-------------------------------------------\n"
          ]
        },
        {
          "output_type": "display_data",
          "data": {
            "text/plain": [
              "<IPython.core.display.Markdown object>"
            ],
            "text/markdown": "> **user**: Como é preparada essa comida?"
          },
          "metadata": {}
        },
        {
          "output_type": "stream",
          "name": "stdout",
          "text": [
            "-------------------------------------------\n"
          ]
        },
        {
          "output_type": "display_data",
          "data": {
            "text/plain": [
              "<IPython.core.display.Markdown object>"
            ],
            "text/markdown": "> **model**: O sushi é preparado com arroz avinagrado combinado com vários ingredientes, como frutos do mar crus, vegetais e ovos. O arroz é temperado com vinagre de arroz, açúcar e sal, e depois misturado com os outros ingredientes. O sushi pode ser enrolado em folhas de alga marinha (nori), prensado em blocos ou servido em tigelas.\n> \n> Existem muitos tipos diferentes de sushi, incluindo:\n> \n> * **Nigiri:** Arroz avinagrado coberto com uma fatia de peixe cru ou frutos do mar\n> * **Maki:** Arroz avinagrado enrolado em folhas de alga marinha com vários recheios\n> * **Sashimi:** Peixe cru ou frutos do mar fatiados e servidos sem arroz\n> * **Chirashi:** Arroz avinagrado coberto com vários ingredientes, como peixe cru, frutos do mar, vegetais e ovos\n> * **Temaki:** Cone de alga marinha enrolado com arroz avinagrado e vários recheios"
          },
          "metadata": {}
        },
        {
          "output_type": "stream",
          "name": "stdout",
          "text": [
            "-------------------------------------------\n"
          ]
        },
        {
          "output_type": "display_data",
          "data": {
            "text/plain": [
              "<IPython.core.display.Markdown object>"
            ],
            "text/markdown": "> **user**: Fim"
          },
          "metadata": {}
        },
        {
          "output_type": "stream",
          "name": "stdout",
          "text": [
            "-------------------------------------------\n"
          ]
        },
        {
          "output_type": "display_data",
          "data": {
            "text/plain": [
              "<IPython.core.display.Markdown object>"
            ],
            "text/markdown": "> **model**: Obrigado por conversar comigo! Foi um prazer."
          },
          "metadata": {}
        },
        {
          "output_type": "stream",
          "name": "stdout",
          "text": [
            "-------------------------------------------\n"
          ]
        }
      ]
    }
  ]
}